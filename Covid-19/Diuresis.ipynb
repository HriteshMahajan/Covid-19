{
 "cells": [
  {
   "cell_type": "code",
   "execution_count": 61,
   "metadata": {},
   "outputs": [],
   "source": [
    "import pandas as pd\n",
    "\n",
    "import numpy as np\n",
    "\n",
    "import matplotlib.pyplot as plt\n",
    "%matplotlib inline\n",
    "\n",
    "from statsmodels.tsa.ar_model import AR\n",
    "\n",
    "from sklearn.metrics import mean_squared_error,mean_absolute_error,r2_score,accuracy_score,mean_squared_log_error\n",
    "\n"
   ]
  },
  {
   "cell_type": "code",
   "execution_count": 62,
   "metadata": {},
   "outputs": [],
   "source": [
    "data=pd.read_csv(\"Train_dataset(P2).csv\",index_col=[0])"
   ]
  },
  {
   "cell_type": "code",
   "execution_count": 63,
   "metadata": {},
   "outputs": [
    {
     "data": {
      "text/html": [
       "<div>\n",
       "<style scoped>\n",
       "    .dataframe tbody tr th:only-of-type {\n",
       "        vertical-align: middle;\n",
       "    }\n",
       "\n",
       "    .dataframe tbody tr th {\n",
       "        vertical-align: top;\n",
       "    }\n",
       "\n",
       "    .dataframe thead th {\n",
       "        text-align: right;\n",
       "    }\n",
       "</style>\n",
       "<table border=\"1\" class=\"dataframe\">\n",
       "  <thead>\n",
       "    <tr style=\"text-align: right;\">\n",
       "      <th></th>\n",
       "      <th>people_ID</th>\n",
       "      <th>2020-03-20 00:00:00</th>\n",
       "      <th>2020-03-21 00:00:00</th>\n",
       "      <th>2020-03-22 00:00:00</th>\n",
       "      <th>2020-03-23 00:00:00</th>\n",
       "      <th>2020-03-24 00:00:00</th>\n",
       "      <th>2020-03-25 00:00:00</th>\n",
       "      <th>2020-03-26 00:00:00</th>\n",
       "    </tr>\n",
       "  </thead>\n",
       "  <tbody>\n",
       "    <tr>\n",
       "      <th>0</th>\n",
       "      <td>1</td>\n",
       "      <td>441</td>\n",
       "      <td>544.2</td>\n",
       "      <td>669.64</td>\n",
       "      <td>821.368</td>\n",
       "      <td>1002.2416</td>\n",
       "      <td>1215.68992</td>\n",
       "      <td>1472.627904</td>\n",
       "    </tr>\n",
       "    <tr>\n",
       "      <th>1</th>\n",
       "      <td>2</td>\n",
       "      <td>151</td>\n",
       "      <td>197.2</td>\n",
       "      <td>253.24</td>\n",
       "      <td>321.688</td>\n",
       "      <td>399.9256</td>\n",
       "      <td>492.91072</td>\n",
       "      <td>606.892864</td>\n",
       "    </tr>\n",
       "    <tr>\n",
       "      <th>2</th>\n",
       "      <td>3</td>\n",
       "      <td>416</td>\n",
       "      <td>515.2</td>\n",
       "      <td>632.44</td>\n",
       "      <td>776.728</td>\n",
       "      <td>947.7736</td>\n",
       "      <td>1150.32832</td>\n",
       "      <td>1395.793984</td>\n",
       "    </tr>\n",
       "    <tr>\n",
       "      <th>3</th>\n",
       "      <td>4</td>\n",
       "      <td>410</td>\n",
       "      <td>506.0</td>\n",
       "      <td>621.40</td>\n",
       "      <td>761.880</td>\n",
       "      <td>928.1560</td>\n",
       "      <td>1126.78720</td>\n",
       "      <td>1368.344640</td>\n",
       "    </tr>\n",
       "    <tr>\n",
       "      <th>4</th>\n",
       "      <td>5</td>\n",
       "      <td>390</td>\n",
       "      <td>483.0</td>\n",
       "      <td>595.00</td>\n",
       "      <td>730.200</td>\n",
       "      <td>892.8400</td>\n",
       "      <td>1084.40800</td>\n",
       "      <td>1315.889600</td>\n",
       "    </tr>\n",
       "  </tbody>\n",
       "</table>\n",
       "</div>"
      ],
      "text/plain": [
       "   people_ID  2020-03-20 00:00:00  2020-03-21 00:00:00  2020-03-22 00:00:00  \\\n",
       "0          1                  441                544.2               669.64   \n",
       "1          2                  151                197.2               253.24   \n",
       "2          3                  416                515.2               632.44   \n",
       "3          4                  410                506.0               621.40   \n",
       "4          5                  390                483.0               595.00   \n",
       "\n",
       "   2020-03-23 00:00:00  2020-03-24 00:00:00  2020-03-25 00:00:00  \\\n",
       "0              821.368            1002.2416           1215.68992   \n",
       "1              321.688             399.9256            492.91072   \n",
       "2              776.728             947.7736           1150.32832   \n",
       "3              761.880             928.1560           1126.78720   \n",
       "4              730.200             892.8400           1084.40800   \n",
       "\n",
       "   2020-03-26 00:00:00  \n",
       "0          1472.627904  \n",
       "1           606.892864  \n",
       "2          1395.793984  \n",
       "3          1368.344640  \n",
       "4          1315.889600  "
      ]
     },
     "execution_count": 63,
     "metadata": {},
     "output_type": "execute_result"
    }
   ],
   "source": [
    "data.head()"
   ]
  },
  {
   "cell_type": "markdown",
   "metadata": {},
   "source": [
    "## For training the data"
   ]
  },
  {
   "cell_type": "code",
   "execution_count": 64,
   "metadata": {},
   "outputs": [],
   "source": [
    "def tr(X):\n",
    "    train = X\n",
    "# train autoregression\n",
    "    model = AR(train)\n",
    "    model_fit = model.fit(trend='nc',disp=False,maxlag=5)\n",
    "# make predictions\n",
    "    predictions = model_fit.predict(start=len(X), end=len(X), dynamic=False)\n",
    "    return predictions"
   ]
  },
  {
   "cell_type": "code",
   "execution_count": 65,
   "metadata": {},
   "outputs": [
    {
     "data": {
      "text/plain": [
       "0        1472.627904\n",
       "1         606.892864\n",
       "2        1395.793984\n",
       "3        1368.344640\n",
       "4        1315.889600\n",
       "            ...     \n",
       "10709     549.466176\n",
       "10710    1303.263168\n",
       "10711     676.787008\n",
       "10712    1204.138048\n",
       "10713     686.622784\n",
       "Name: 2020-03-26 00:00:00, Length: 10714, dtype: float64"
      ]
     },
     "execution_count": 65,
     "metadata": {},
     "output_type": "execute_result"
    }
   ],
   "source": [
    "test=data[\"2020-03-26 00:00:00\"].T\n",
    "test"
   ]
  },
  {
   "cell_type": "code",
   "execution_count": 66,
   "metadata": {},
   "outputs": [
    {
     "data": {
      "text/plain": [
       "2020-03-20 00:00:00     441.00000\n",
       "2020-03-21 00:00:00     544.20000\n",
       "2020-03-22 00:00:00     669.64000\n",
       "2020-03-23 00:00:00     821.36800\n",
       "2020-03-24 00:00:00    1002.24160\n",
       "2020-03-25 00:00:00    1215.68992\n",
       "Name: 0, dtype: float64"
      ]
     },
     "execution_count": 66,
     "metadata": {},
     "output_type": "execute_result"
    }
   ],
   "source": [
    "data.T[0][1:7]"
   ]
  },
  {
   "cell_type": "markdown",
   "metadata": {},
   "source": [
    "## For Testing\n",
    "\n",
    "Taking only 6 columns"
   ]
  },
  {
   "cell_type": "code",
   "execution_count": 74,
   "metadata": {},
   "outputs": [
    {
     "data": {
      "text/plain": [
       "10714"
      ]
     },
     "execution_count": 74,
     "metadata": {},
     "output_type": "execute_result"
    }
   ],
   "source": [
    "pred=np.zeros((len(data),1))\n",
    "count=0\n",
    "for i in range(len(data)):\n",
    "    count=count+1\n",
    "    a=data.T[i][1:7].values\n",
    "    a=np.reshape(a,(len(a),1))\n",
    "    pred[i]=tr(a)\n",
    "count"
   ]
  },
  {
   "cell_type": "code",
   "execution_count": 75,
   "metadata": {},
   "outputs": [
    {
     "data": {
      "text/plain": [
       "(0.9990081260208303, 9.139037760230206)"
      ]
     },
     "execution_count": 75,
     "metadata": {},
     "output_type": "execute_result"
    }
   ],
   "source": [
    "r2_score(test,pred),(mean_absolute_error(pred,test))\n"
   ]
  },
  {
   "cell_type": "code",
   "execution_count": 76,
   "metadata": {},
   "outputs": [
    {
     "data": {
      "text/plain": [
       "array([[1484.00926719],\n",
       "       [ 616.65194608],\n",
       "       [1404.84776458],\n",
       "       ...,\n",
       "       [ 685.26130941],\n",
       "       [1212.88999062],\n",
       "       [ 695.78134062]])"
      ]
     },
     "execution_count": 76,
     "metadata": {},
     "output_type": "execute_result"
    }
   ],
   "source": [
    "pred"
   ]
  },
  {
   "cell_type": "markdown",
   "metadata": {},
   "source": [
    "## Predicting the data"
   ]
  },
  {
   "cell_type": "code",
   "execution_count": 77,
   "metadata": {},
   "outputs": [
    {
     "name": "stderr",
     "output_type": "stream",
     "text": [
      "C:\\Users\\asus\\MachineLearning\\Covid\\env\\lib\\site-packages\\statsmodels\\tsa\\ar_model.py:691: FutureWarning: \n",
      "statsmodels.tsa.AR has been deprecated in favor of statsmodels.tsa.AutoReg and\n",
      "statsmodels.tsa.SARIMAX.\n",
      "\n",
      "AutoReg adds the ability to specify exogenous variables, include time trends,\n",
      "and add seasonal dummies. The AutoReg API differs from AR since the model is\n",
      "treated as immutable, and so the entire specification including the lag\n",
      "length must be specified when creating the model. This change is too\n",
      "substantial to incorporate into the existing AR api. The function\n",
      "ar_select_order performs lag length selection for AutoReg models.\n",
      "\n",
      "AutoReg only estimates parameters using conditional MLE (OLS). Use SARIMAX to\n",
      "estimate ARX and related models using full MLE via the Kalman Filter.\n",
      "\n",
      "To silence this warning and continue using AR until it is removed, use:\n",
      "\n",
      "import warnings\n",
      "warnings.filterwarnings('ignore', 'statsmodels.tsa.ar_model.AR', FutureWarning)\n",
      "\n",
      "  warnings.warn(AR_DEPRECATION_WARN, FutureWarning)\n"
     ]
    },
    {
     "data": {
      "text/plain": [
       "10714"
      ]
     },
     "execution_count": 77,
     "metadata": {},
     "output_type": "execute_result"
    }
   ],
   "source": [
    "pred=np.zeros((len(data),1))\n",
    "count=0\n",
    "for i in range(len(data)):\n",
    "    count=count+1\n",
    "    a=data.T[i][1:].values\n",
    "    a=np.reshape(a,(len(a),1))\n",
    "    pred[i]=tr(a)\n",
    "count"
   ]
  },
  {
   "cell_type": "code",
   "execution_count": 84,
   "metadata": {},
   "outputs": [],
   "source": [
    "pred=np.reshape(pred,(10714,))"
   ]
  },
  {
   "cell_type": "code",
   "execution_count": 85,
   "metadata": {},
   "outputs": [],
   "source": [
    "df=pd.DataFrame({\"people_ID\":data[\"people_ID\"],\"Diuresis_P\":pred})"
   ]
  },
  {
   "cell_type": "code",
   "execution_count": 86,
   "metadata": {},
   "outputs": [
    {
     "data": {
      "text/html": [
       "<div>\n",
       "<style scoped>\n",
       "    .dataframe tbody tr th:only-of-type {\n",
       "        vertical-align: middle;\n",
       "    }\n",
       "\n",
       "    .dataframe tbody tr th {\n",
       "        vertical-align: top;\n",
       "    }\n",
       "\n",
       "    .dataframe thead th {\n",
       "        text-align: right;\n",
       "    }\n",
       "</style>\n",
       "<table border=\"1\" class=\"dataframe\">\n",
       "  <thead>\n",
       "    <tr style=\"text-align: right;\">\n",
       "      <th></th>\n",
       "      <th>people_ID</th>\n",
       "      <th>Diuresis_P</th>\n",
       "    </tr>\n",
       "  </thead>\n",
       "  <tbody>\n",
       "    <tr>\n",
       "      <th>0</th>\n",
       "      <td>1</td>\n",
       "      <td>1779.689721</td>\n",
       "    </tr>\n",
       "    <tr>\n",
       "      <th>1</th>\n",
       "      <td>2</td>\n",
       "      <td>744.762335</td>\n",
       "    </tr>\n",
       "    <tr>\n",
       "      <th>2</th>\n",
       "      <td>3</td>\n",
       "      <td>1692.059691</td>\n",
       "    </tr>\n",
       "    <tr>\n",
       "      <th>3</th>\n",
       "      <td>4</td>\n",
       "      <td>1660.315211</td>\n",
       "    </tr>\n",
       "    <tr>\n",
       "      <th>4</th>\n",
       "      <td>5</td>\n",
       "      <td>1593.841214</td>\n",
       "    </tr>\n",
       "  </tbody>\n",
       "</table>\n",
       "</div>"
      ],
      "text/plain": [
       "   people_ID   Diuresis_P\n",
       "0          1  1779.689721\n",
       "1          2   744.762335\n",
       "2          3  1692.059691\n",
       "3          4  1660.315211\n",
       "4          5  1593.841214"
      ]
     },
     "execution_count": 86,
     "metadata": {},
     "output_type": "execute_result"
    }
   ],
   "source": [
    "df.head()"
   ]
  },
  {
   "cell_type": "markdown",
   "metadata": {},
   "source": [
    "## FInal Predicted Values of Diuresis on 27th March,2020"
   ]
  },
  {
   "cell_type": "code",
   "execution_count": 88,
   "metadata": {},
   "outputs": [],
   "source": [
    "Diuresis=df\n",
    "Diuresis.to_csv(\"Diuresis_Predictions.csv\")"
   ]
  },
  {
   "cell_type": "code",
   "execution_count": null,
   "metadata": {},
   "outputs": [],
   "source": []
  }
 ],
 "metadata": {
  "kernelspec": {
   "display_name": "Python 3",
   "language": "python",
   "name": "python3"
  },
  "language_info": {
   "codemirror_mode": {
    "name": "ipython",
    "version": 3
   },
   "file_extension": ".py",
   "mimetype": "text/x-python",
   "name": "python",
   "nbconvert_exporter": "python",
   "pygments_lexer": "ipython3",
   "version": "3.8.1"
  }
 },
 "nbformat": 4,
 "nbformat_minor": 4
}
